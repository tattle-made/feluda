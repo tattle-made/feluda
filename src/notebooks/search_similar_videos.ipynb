{
 "cells": [
  {
   "cell_type": "code",
   "execution_count": 1,
   "metadata": {},
   "outputs": [],
   "source": [
    "import sys\n",
    "import os\n",
    "from core.operators import vid_vec_rep_clip\n",
    "from core.models.media_factory import VideoFactory\n",
    "from core.store.es_vec import ES\n",
    "from core.config import *\n",
    "from core.models.media import MediaType\n",
    "from datetime import datetime\n",
    "import pprint\n",
    "pp = pprint.PrettyPrinter(indent=4)"
   ]
  },
  {
   "cell_type": "code",
   "execution_count": 2,
   "metadata": {},
   "outputs": [],
   "source": [
    "sys.path.append(os.path.abspath('../../app'))"
   ]
  },
  {
   "cell_type": "code",
   "execution_count": 4,
   "metadata": {},
   "outputs": [],
   "source": [
    "video_links = [\n",
    "    \"https://github.com/aatmanvaidya/audio-files/raw/main/feluda-media/en-speech.mp4\",\n",
    "    \"https://github.com/aatmanvaidya/audio-files/raw/main/feluda-media/hi-speech.mp4\",\n",
    "    \"https://github.com/aatmanvaidya/audio-files/raw/main/feluda-media/ta-speech.mp4\"\n",
    "]\n",
    "\n",
    "file_names = [x.split('/')[-1] for x in video_links]\n"
   ]
  },
  {
   "cell_type": "code",
   "execution_count": 5,
   "metadata": {},
   "outputs": [
    {
     "name": "stdout",
     "output_type": "stream",
     "text": [
      "Installing packages for vid_vec_rep_clip\n"
     ]
    },
    {
     "name": "stderr",
     "output_type": "stream",
     "text": [
      "/usr/app/venv/lib/python3.11/site-packages/tqdm/auto.py:21: TqdmWarning: IProgress not found. Please update jupyter and ipywidgets. See https://ipywidgets.readthedocs.io/en/stable/user_install.html\n",
      "  from .autonotebook import tqdm as notebook_tqdm\n",
      "/usr/app/venv/lib/python3.11/site-packages/transformers/tokenization_utils_base.py:1601: FutureWarning: `clean_up_tokenization_spaces` was not set. It will be set to `True` by default. This behavior will be depracted in transformers v4.45, and will be then set to `False` by default. For more details check this issue: https://github.com/huggingface/transformers/issues/31884\n",
      "  warnings.warn(\n"
     ]
    },
    {
     "name": "stdout",
     "output_type": "stream",
     "text": [
      "Downloading video from URL\n",
      "100% [..............................................................................] 48488 / 48488\n",
      "Video downloaded\n",
      "Downloading video from URL\n",
      "100% [..............................................................................] 47732 / 47732\n",
      "Video downloaded\n",
      "Downloading video from URL\n",
      "100% [..............................................................................] 51309 / 51309\n",
      "Video downloaded\n"
     ]
    }
   ],
   "source": [
    "def get_vector_representation_of_video(video_links):\n",
    "    \n",
    "    result = []\n",
    "    vid_vec_rep_clip.initialize({})\n",
    "    for link in video_links:\n",
    "        video = VideoFactory.make_from_url(link)\n",
    "        vector = vid_vec_rep_clip.run(video)\n",
    "        result.append(vector)\n",
    "\n",
    "    return result\n",
    "\n",
    "final_embeddings = get_vector_representation_of_video(video_links)\n",
    "        \n",
    "    "
   ]
  },
  {
   "cell_type": "code",
   "execution_count": 6,
   "metadata": {},
   "outputs": [],
   "source": [
    "# Code to initialize Elastic search instance\n",
    "\n",
    "param_dict = {\n",
    "    \"host_name\": \"es\",\n",
    "    \"text_index_name\": \"text\",\n",
    "    \"image_index_name\": \"image\",\n",
    "    \"video_index_name\": \"video\",\n",
    "    \"audio_index_name\": \"audio\",\n",
    "}\n",
    "\n",
    "param = QueueConfig(\n",
    "    label=\"test\",\n",
    "    type=\"es\",\n",
    "    parameters=StoreESParameters(\n",
    "        host_name=param_dict[\"host_name\"],\n",
    "        image_index_name=param_dict[\"image_index_name\"],\n",
    "        text_index_name=param_dict[\"text_index_name\"],\n",
    "        video_index_name=param_dict[\"video_index_name\"],\n",
    "        audio_index_name=param_dict[\"audio_index_name\"],\n",
    "    ),\n",
    ")\n",
    "es = ES(param)\n",
    "es.connect()"
   ]
  },
  {
   "cell_type": "markdown",
   "metadata": {},
   "source": [
    "### Storing embeddings into Elastic Search"
   ]
  },
  {
   "cell_type": "code",
   "execution_count": 7,
   "metadata": {
    "scrolled": true
   },
   "outputs": [
    {
     "name": "stdout",
     "output_type": "stream",
     "text": [
      "en-speech.mp4 <generator object gendata at 0x738989a535a0>\n",
      "----> 6 (2, [])\n",
      "result: {'message': 'multiple media stored'}\n",
      "hi-speech.mp4 <generator object gendata at 0x738989a52ce0>\n",
      "----> 6 (2, [])\n",
      "result: {'message': 'multiple media stored'}\n",
      "ta-speech.mp4 <generator object gendata at 0x738989a534c0>\n",
      "----> 6 (2, [])\n",
      "result: {'message': 'multiple media stored'}\n"
     ]
    }
   ],
   "source": [
    "def generate_document(post_id: str, representation: any):\n",
    "    base_doc = {\n",
    "        \"e_kosh_id\": \"\",\n",
    "        \"dataset\": post_id,\n",
    "        \"metadata\": None,\n",
    "        \"date_added\": datetime.now().isoformat(),\n",
    "    }\n",
    "\n",
    "    def generator_doc():\n",
    "        for vector in representation:\n",
    "            base_doc[\"_index\"] = \"video\"\n",
    "            base_doc[\"vid_vec\"] = vector[\"vid_vec\"]\n",
    "            base_doc[\"is_avg\"] = vector[\"is_avg\"]\n",
    "            yield base_doc\n",
    "\n",
    "    return generator_doc\n",
    "\n",
    "\n",
    "for file_name,embedding in zip(file_names,final_embeddings):\n",
    "    print(file_name,embedding)\n",
    "    doc = generate_document(file_name,embedding)\n",
    "    media_type = MediaType.VIDEO\n",
    "    result = es.store(media_type, doc)\n",
    "    print(\"result:\", result)\n"
   ]
  },
  {
   "cell_type": "markdown",
   "metadata": {},
   "source": [
    "### Checking if embeddings are stored correctly"
   ]
  },
  {
   "cell_type": "code",
   "execution_count": 9,
   "metadata": {},
   "outputs": [
    {
     "name": "stdout",
     "output_type": "stream",
     "text": [
      "health status index uuid                   pri rep docs.count docs.deleted store.size pri.store.size dataset.size\n",
      "yellow open   video B1F4p1UGTMy-lFPMjw8g3g   1   1         44            0    834.1kb        834.1kb      834.1kb\n"
     ]
    }
   ],
   "source": [
    "!curl -X GET \"http://es:9200/_cat/indices?v\""
   ]
  },
  {
   "cell_type": "markdown",
   "metadata": {},
   "source": [
    "### Searching for a specific media"
   ]
  },
  {
   "cell_type": "code",
   "execution_count": 19,
   "metadata": {},
   "outputs": [],
   "source": [
    "def search_video_vector(video_url):\n",
    "\n",
    "    file_name = video_url.split('/')[-1]\n",
    "    video = VideoFactory.make_from_url(video_url)\n",
    "    embedding = vid_vec_rep_clip.run(video)\n",
    "    average_vector = next(embedding)\n",
    "    search_result = es.find(\"video\", average_vector.get(\"vid_vec\"))\n",
    "    print(\".\"*50)\n",
    "    print(\"SEARCH RESULTS \\n : \")\n",
    "    pp.pprint(search_result)\n",
    "    file_found = False\n",
    "    for result in search_result:\n",
    "        if result.get(\"dataset\") == file_name:\n",
    "            file_found = True\n",
    "            break\n",
    "    print(\".\"*50)\n",
    "    if(file_found):\n",
    "        print(f\"File {file_name} found in search result\")\n",
    "    else:\n",
    "        print(f\"File {file_name} not found in search result\")\n",
    "\n",
    "    \n",
    "\n",
    "    \n",
    "    "
   ]
  },
  {
   "cell_type": "code",
   "execution_count": 20,
   "metadata": {},
   "outputs": [
    {
     "name": "stdout",
     "output_type": "stream",
     "text": [
      "Downloading video from URL\n",
      "100% [..............................................................................] 48488 / 48488\n",
      "Video downloaded\n",
      "calculation: 1 / (1 + l2norm(params.query_vector, 'vid_vec'))\n",
      "..................................................\n",
      "SEARCH RESULTS \n",
      " : \n",
      "[   {   'dataset': 'en-speech.mp4',\n",
      "        'dist': 0.9999998,\n",
      "        'doc_id': 'XdQMqpIBbNdOPzkpIBHY',\n",
      "        'e_kosh_id': '',\n",
      "        'metadata': None,\n",
      "        'text': None},\n",
      "    {   'dataset': 'en-speech.mp4',\n",
      "        'dist': 0.9999998,\n",
      "        'doc_id': 'XtQMqpIBbNdOPzkpIBHa',\n",
      "        'e_kosh_id': '',\n",
      "        'metadata': None,\n",
      "        'text': None},\n",
      "    {   'dataset': 'en-speech.mp4',\n",
      "        'dist': 0.9999998,\n",
      "        'doc_id': 'QF_VqZIBOE8dDT7tnO5U',\n",
      "        'e_kosh_id': '',\n",
      "        'metadata': None,\n",
      "        'text': None},\n",
      "    {   'dataset': 'en-speech.mp4',\n",
      "        'dist': 0.9999998,\n",
      "        'doc_id': 'QV_VqZIBOE8dDT7tnO5U',\n",
      "        'e_kosh_id': '',\n",
      "        'metadata': None,\n",
      "        'text': None},\n",
      "    {   'dataset': 'en-speech.mp4',\n",
      "        'dist': 0.9999998,\n",
      "        'doc_id': 'Ol_AqZIBOE8dDT7tWe4r',\n",
      "        'e_kosh_id': '',\n",
      "        'metadata': None,\n",
      "        'text': None},\n",
      "    {   'dataset': 'en-speech.mp4',\n",
      "        'dist': 0.9999998,\n",
      "        'doc_id': 'O1_AqZIBOE8dDT7tWe4r',\n",
      "        'e_kosh_id': '',\n",
      "        'metadata': None,\n",
      "        'text': None},\n",
      "    {   'dataset': 'en-speech.mp4',\n",
      "        'dist': 0.9999998,\n",
      "        'doc_id': 'Rl_nqZIBOE8dDT7tB-6F',\n",
      "        'e_kosh_id': '',\n",
      "        'metadata': None,\n",
      "        'text': None},\n",
      "    {   'dataset': 'en-speech.mp4',\n",
      "        'dist': 0.9999998,\n",
      "        'doc_id': 'R1_nqZIBOE8dDT7tB-6F',\n",
      "        'e_kosh_id': '',\n",
      "        'metadata': None,\n",
      "        'text': None},\n",
      "    {   'dataset': 'hi-speech.mp4',\n",
      "        'dist': 0.15991358,\n",
      "        'doc_id': 'Ql_VqZIBOE8dDT7tnO5f',\n",
      "        'e_kosh_id': '',\n",
      "        'metadata': None,\n",
      "        'text': None},\n",
      "    {   'dataset': 'hi-speech.mp4',\n",
      "        'dist': 0.15991358,\n",
      "        'doc_id': 'Q1_VqZIBOE8dDT7tnO5f',\n",
      "        'e_kosh_id': '',\n",
      "        'metadata': None,\n",
      "        'text': None}]\n",
      "..................................................\n",
      "File en-speech.mp4 found in search result\n"
     ]
    }
   ],
   "source": [
    "search_video_vector(\"https://github.com/aatmanvaidya/audio-files/raw/main/feluda-media/en-speech.mp4\")"
   ]
  },
  {
   "cell_type": "code",
   "execution_count": null,
   "metadata": {},
   "outputs": [],
   "source": []
  }
 ],
 "metadata": {
  "kernelspec": {
   "display_name": "Python 3 (ipykernel)",
   "language": "python",
   "name": "python3"
  },
  "language_info": {
   "codemirror_mode": {
    "name": "ipython",
    "version": 3
   },
   "file_extension": ".py",
   "mimetype": "text/x-python",
   "name": "python",
   "nbconvert_exporter": "python",
   "pygments_lexer": "ipython3",
   "version": "3.11.8"
  }
 },
 "nbformat": 4,
 "nbformat_minor": 4
}
