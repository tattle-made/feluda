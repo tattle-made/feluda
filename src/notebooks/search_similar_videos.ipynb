{
 "cells": [
  {
   "cell_type": "code",
   "execution_count": 28,
   "metadata": {},
   "outputs": [],
   "source": [
    "import sys\n",
    "import os"
   ]
  },
  {
   "cell_type": "code",
   "execution_count": 29,
   "metadata": {},
   "outputs": [],
   "source": [
    "# sys.path.append()"
   ]
  },
  {
   "cell_type": "code",
   "execution_count": 30,
   "metadata": {},
   "outputs": [],
   "source": [
    "sys.path.append(os.path.abspath('../../app'))\n",
    "# sys.path.append(os.path.abspath('../../app/core'))\n"
   ]
  },
  {
   "cell_type": "code",
   "execution_count": 31,
   "metadata": {},
   "outputs": [
    {
     "name": "stdout",
     "output_type": "stream",
     "text": [
      "['/usr/local/lib/python311.zip', '/usr/local/lib/python3.11', '/usr/local/lib/python3.11/lib-dynload', '', '/usr/app/venv/lib/python3.11/site-packages', '/usr/app', '/usr/app', '/usr/app/core', '/usr/app']\n"
     ]
    }
   ],
   "source": [
    "print(sys.path)"
   ]
  },
  {
   "cell_type": "code",
   "execution_count": 53,
   "metadata": {},
   "outputs": [],
   "source": [
    "from core.operators import vid_vec_rep_clip\n",
    "from core.models.media_factory import VideoFactory\n",
    "from core.store.es_vec import ES\n",
    "from core.config import *\n",
    "from core.models.media import MediaType\n",
    "from datetime import datetime"
   ]
  },
  {
   "cell_type": "code",
   "execution_count": 33,
   "metadata": {},
   "outputs": [],
   "source": [
    "# https://github.com/aatmanvaidya/audio-files/raw/main/feluda-media/en-speech.mp4\n",
    "# https://github.com/aatmanvaidya/audio-files/raw/main/feluda-media/hi-speech.mp4\n",
    "# https://github.com/aatmanvaidya/audio-files/raw/main/feluda-media/ta-speech.mp4"
   ]
  },
  {
   "cell_type": "code",
   "execution_count": 34,
   "metadata": {},
   "outputs": [
    {
     "name": "stdout",
     "output_type": "stream",
     "text": [
      "Downloading video from URL\n",
      "100% [..............................................................................] 48488 / 48488\n",
      "Video downloaded\n"
     ]
    }
   ],
   "source": [
    "temp = audio_file_path = VideoFactory.make_from_url(\n",
    "    r\"https://github.com/aatmanvaidya/audio-files/raw/main/feluda-media/en-speech.mp4\"\n",
    ")"
   ]
  },
  {
   "cell_type": "code",
   "execution_count": 7,
   "metadata": {},
   "outputs": [
    {
     "name": "stdout",
     "output_type": "stream",
     "text": [
      "Installing packages for vid_vec_rep_clip\n"
     ]
    },
    {
     "name": "stderr",
     "output_type": "stream",
     "text": [
      "/usr/app/venv/lib/python3.11/site-packages/tqdm/auto.py:21: TqdmWarning: IProgress not found. Please update jupyter and ipywidgets. See https://ipywidgets.readthedocs.io/en/stable/user_install.html\n",
      "  from .autonotebook import tqdm as notebook_tqdm\n",
      "/usr/app/venv/lib/python3.11/site-packages/transformers/tokenization_utils_base.py:1601: FutureWarning: `clean_up_tokenization_spaces` was not set. It will be set to `True` by default. This behavior will be depracted in transformers v4.45, and will be then set to `False` by default. For more details check this issue: https://github.com/huggingface/transformers/issues/31884\n",
      "  warnings.warn(\n"
     ]
    }
   ],
   "source": [
    "vid_vec_rep_clip.initialize({})\n",
    "t = vid_vec_rep_clip.run(temp)"
   ]
  },
  {
   "cell_type": "code",
   "execution_count": 50,
   "metadata": {},
   "outputs": [],
   "source": [
    "param_dict = {\n",
    "    \"host_name\": \"es\",\n",
    "    \"text_index_name\": \"text\",\n",
    "    \"image_index_name\": \"image\",\n",
    "    \"video_index_name\": \"video\",\n",
    "    \"audio_index_name\": \"audio\",\n",
    "}\n",
    "\n",
    "param = QueueConfig(\n",
    "    label=\"test\",\n",
    "    type=\"es\",\n",
    "    parameters=StoreESParameters(\n",
    "        host_name=param_dict[\"host_name\"],\n",
    "        image_index_name=param_dict[\"image_index_name\"],\n",
    "        text_index_name=param_dict[\"text_index_name\"],\n",
    "        video_index_name=param_dict[\"video_index_name\"],\n",
    "        audio_index_name=param_dict[\"audio_index_name\"],\n",
    "    ),\n",
    ")\n",
    "es = ES(param)\n",
    "es.connect()"
   ]
  },
  {
   "cell_type": "code",
   "execution_count": 54,
   "metadata": {},
   "outputs": [
    {
     "name": "stdout",
     "output_type": "stream",
     "text": [
      "----> 6 (0, [])\n",
      "result: {'message': 'multiple media stored'}\n"
     ]
    }
   ],
   "source": [
    "def generate_document(post_id: str, representation: any):\n",
    "    base_doc = {\n",
    "        \"e_kosh_id\": \"\",\n",
    "        \"dataset\": post_id,\n",
    "        \"metadata\": None,\n",
    "        \"date_added\": datetime.now().isoformat(),\n",
    "    }\n",
    "\n",
    "    def generator_doc():\n",
    "        for vector in representation:\n",
    "            base_doc[\"_index\"] = \"video\"\n",
    "            base_doc[\"vid_vec\"] = vector[\"vid_vec\"]\n",
    "            base_doc[\"is_avg\"] = vector[\"is_avg\"]\n",
    "            base_doc[\"duration\"] = vector[\"duration\"]\n",
    "            base_doc[\"n_keyframes\"] = vector[\"n_keyframes\"]\n",
    "            yield base_doc\n",
    "\n",
    "    return generator_doc\n",
    "\n",
    "doc = generate_document('temp.mp4',t)\n",
    "media_type = MediaType.VIDEO\n",
    "result = es.store(media_type, doc)\n",
    "print(\"result:\", result)\n"
   ]
  },
  {
   "cell_type": "code",
   "execution_count": null,
   "metadata": {},
   "outputs": [],
   "source": []
  }
 ],
 "metadata": {
  "kernelspec": {
   "display_name": "Python 3 (ipykernel)",
   "language": "python",
   "name": "python3"
  },
  "language_info": {
   "codemirror_mode": {
    "name": "ipython",
    "version": 3
   },
   "file_extension": ".py",
   "mimetype": "text/x-python",
   "name": "python",
   "nbconvert_exporter": "python",
   "pygments_lexer": "ipython3",
   "version": "3.11.8"
  }
 },
 "nbformat": 4,
 "nbformat_minor": 4
}
