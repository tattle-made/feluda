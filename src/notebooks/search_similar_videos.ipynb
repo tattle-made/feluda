{
 "cells": [
  {
   "cell_type": "code",
   "execution_count": 1,
   "metadata": {},
   "outputs": [],
   "source": [
    "import sys\n",
    "import os"
   ]
  },
  {
   "cell_type": "code",
   "execution_count": 2,
   "metadata": {},
   "outputs": [],
   "source": [
    "sys.path.append(os.path.abspath('../../app'))"
   ]
  },
  {
   "cell_type": "code",
   "execution_count": 3,
   "metadata": {},
   "outputs": [],
   "source": [
    "from core.feluda import Feluda,ComponentType"
   ]
  },
  {
   "cell_type": "code",
   "execution_count": 4,
   "metadata": {},
   "outputs": [
    {
     "name": "stdout",
     "output_type": "stream",
     "text": [
      "Installing packages for vid_vec_rep_clip\n"
     ]
    },
    {
     "name": "stderr",
     "output_type": "stream",
     "text": [
      "/usr/app/venv/lib/python3.11/site-packages/tqdm/auto.py:21: TqdmWarning: IProgress not found. Please update jupyter and ipywidgets. See https://ipywidgets.readthedocs.io/en/stable/user_install.html\n",
      "  from .autonotebook import tqdm as notebook_tqdm\n",
      "/usr/app/venv/lib/python3.11/site-packages/transformers/tokenization_utils_base.py:1601: FutureWarning: `clean_up_tokenization_spaces` was not set. It will be set to `True` by default. This behavior will be depracted in transformers v4.45, and will be then set to `False` by default. For more details check this issue: https://github.com/huggingface/transformers/issues/31884\n",
      "  warnings.warn(\n"
     ]
    }
   ],
   "source": [
    "feluda = Feluda(\"config.yml\")\n",
    "feluda.setup()"
   ]
  },
  {
   "cell_type": "code",
   "execution_count": 5,
   "metadata": {},
   "outputs": [],
   "source": [
    "if feluda.config.store:\n",
    "    feluda.start_component(ComponentType.STORE)"
   ]
  },
  {
   "cell_type": "code",
   "execution_count": 6,
   "metadata": {},
   "outputs": [],
   "source": [
    "# self.config.operators.parameters[0].type"
   ]
  },
  {
   "cell_type": "code",
   "execution_count": 7,
   "metadata": {},
   "outputs": [
    {
     "name": "stdout",
     "output_type": "stream",
     "text": [
      "Downloading video from URL\n",
      "100% [..............................................................................] 48488 / 48488\n",
      "Video downloaded\n",
      "----> 6 (2, [])\n"
     ]
    },
    {
     "data": {
      "text/plain": [
       "('result:', {'message': 'multiple media stored'})"
      ]
     },
     "execution_count": 7,
     "metadata": {},
     "output_type": "execute_result"
    }
   ],
   "source": [
    "url = \"https://github.com/aatmanvaidya/audio-files/raw/main/feluda-media/en-speech.mp4\"\n",
    "\n",
    "feluda.store_video(url)"
   ]
  },
  {
   "cell_type": "code",
   "execution_count": 8,
   "metadata": {},
   "outputs": [
    {
     "name": "stdout",
     "output_type": "stream",
     "text": [
      "Downloading video from URL\n",
      "100% [..............................................................................] 48488 / 48488\n",
      "Video downloaded\n",
      "calculation: 1 / (1 + l2norm(params.query_vector, 'vid_vec'))\n"
     ]
    },
    {
     "data": {
      "text/plain": [
       "[{'doc_id': 'TgLwrZIBZCwUx_cLbhBV',\n",
       "  'dist': 0.9999998,\n",
       "  'dataset': 'en-speech.mp4',\n",
       "  'e_kosh_id': '',\n",
       "  'text': None,\n",
       "  'metadata': None},\n",
       " {'doc_id': 'TwLwrZIBZCwUx_cLbhBX',\n",
       "  'dist': 0.9999998,\n",
       "  'dataset': 'en-speech.mp4',\n",
       "  'e_kosh_id': '',\n",
       "  'text': None,\n",
       "  'metadata': None},\n",
       " {'doc_id': 'UALyrZIBZCwUx_cL9hB2',\n",
       "  'dist': 0.9999998,\n",
       "  'dataset': 'en-speech.mp4',\n",
       "  'e_kosh_id': '',\n",
       "  'text': None,\n",
       "  'metadata': None},\n",
       " {'doc_id': 'UQLyrZIBZCwUx_cL9hB2',\n",
       "  'dist': 0.9999998,\n",
       "  'dataset': 'en-speech.mp4',\n",
       "  'e_kosh_id': '',\n",
       "  'text': None,\n",
       "  'metadata': None},\n",
       " {'doc_id': 'UgILrpIBZCwUx_cLPRAI',\n",
       "  'dist': 0.9999998,\n",
       "  'dataset': 'en-speech.mp4',\n",
       "  'e_kosh_id': '',\n",
       "  'text': None,\n",
       "  'metadata': None},\n",
       " {'doc_id': 'UwILrpIBZCwUx_cLPRAI',\n",
       "  'dist': 0.9999998,\n",
       "  'dataset': 'en-speech.mp4',\n",
       "  'e_kosh_id': '',\n",
       "  'text': None,\n",
       "  'metadata': None}]"
      ]
     },
     "execution_count": 8,
     "metadata": {},
     "output_type": "execute_result"
    }
   ],
   "source": [
    "feluda.search_video(url)"
   ]
  },
  {
   "cell_type": "code",
   "execution_count": null,
   "metadata": {},
   "outputs": [],
   "source": []
  }
 ],
 "metadata": {
  "kernelspec": {
   "display_name": "Python 3 (ipykernel)",
   "language": "python",
   "name": "python3"
  },
  "language_info": {
   "codemirror_mode": {
    "name": "ipython",
    "version": 3
   },
   "file_extension": ".py",
   "mimetype": "text/x-python",
   "name": "python",
   "nbconvert_exporter": "python",
   "pygments_lexer": "ipython3",
   "version": "3.11.8"
  }
 },
 "nbformat": 4,
 "nbformat_minor": 4
}
